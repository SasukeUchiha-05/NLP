{
  "cells": [
    {
      "cell_type": "markdown",
      "metadata": {
        "colab_type": "text",
        "id": "view-in-github"
      },
      "source": [
        "<a href=\"https://colab.research.google.com/github/SasukeUchiha-05/NLP/blob/main/NLP_P8_22BD1A6612_MVS_Karthik_15_4_25.ipynb\" target=\"_parent\"><img src=\"https://colab.research.google.com/assets/colab-badge.svg\" alt=\"Open In Colab\"/></a>"
      ]
    },
    {
      "cell_type": "markdown",
      "id": "53679608",
      "metadata": {
        "id": "53679608"
      },
      "source": [
        "## Problem Statement:\n",
        "\n",
        "#### 8.\tBuild a text classifier: Use a dataset with labeled text (e.g., sentiment analysis).\n",
        "- i.\tImplement a Bag-of-Words (BoW) model.\n",
        "- ii.\tTrain and evaluate a classifier."
      ]
    },
    {
      "cell_type": "code",
      "execution_count": null,
      "id": "a9b96e4c",
      "metadata": {},
      "outputs": [],
      "source": []
    },
    {
      "cell_type": "markdown",
      "id": "2325f076",
      "metadata": {
        "id": "2325f076"
      },
      "source": [
        "### Step 1: Import all necessary libraries and datasets."
      ]
    },
    {
      "cell_type": "code",
      "execution_count": null,
      "id": "c13fe557",
      "metadata": {
        "id": "c13fe557"
      },
      "outputs": [],
      "source": [
        "import pandas as pd\n",
        "import numpy as np\n",
        "import re\n",
        "import string\n",
        "import nltk\n",
        "from nltk.corpus import stopwords\n",
        "from nltk.stem import WordNetLemmatizer\n",
        "from sklearn.model_selection import train_test_split\n",
        "from sklearn.feature_extraction.text import TfidfVectorizer\n",
        "from sklearn.naive_bayes import MultinomialNB\n",
        "from sklearn.metrics import accuracy_score, classification_report\n",
        "from nltk.corpus import movie_reviews"
      ]
    },
    {
      "cell_type": "code",
      "execution_count": null,
      "id": "615bff7c",
      "metadata": {
        "id": "615bff7c",
        "outputId": "7798ab27-8efd-44c5-e112-afd316c040a3"
      },
      "outputs": [
        {
          "name": "stderr",
          "output_type": "stream",
          "text": [
            "[nltk_data] Downloading package movie_reviews to\n",
            "[nltk_data]     C:\\Users\\tanay\\AppData\\Roaming\\nltk_data...\n",
            "[nltk_data]   Package movie_reviews is already up-to-date!\n",
            "[nltk_data] Downloading package stopwords to\n",
            "[nltk_data]     C:\\Users\\tanay\\AppData\\Roaming\\nltk_data...\n",
            "[nltk_data]   Package stopwords is already up-to-date!\n",
            "[nltk_data] Downloading package wordnet to\n",
            "[nltk_data]     C:\\Users\\tanay\\AppData\\Roaming\\nltk_data...\n",
            "[nltk_data]   Package wordnet is already up-to-date!\n"
          ]
        },
        {
          "data": {
            "text/plain": [
              "True"
            ]
          },
          "execution_count": 13,
          "metadata": {},
          "output_type": "execute_result"
        }
      ],
      "source": [
        "# Download necessary NLTK datasets\n",
        "nltk.download('movie_reviews')\n",
        "nltk.download('stopwords')\n",
        "nltk.download('wordnet')"
      ]
    },
    {
      "cell_type": "markdown",
      "id": "0c715caf",
      "metadata": {
        "id": "0c715caf"
      },
      "source": [
        "### Step 2: Load dataset."
      ]
    },
    {
      "cell_type": "code",
      "execution_count": null,
      "id": "6480f0c9",
      "metadata": {
        "id": "6480f0c9"
      },
      "outputs": [],
      "source": [
        "# Load IMDB movie reviews dataset from nltk\n",
        "def load_imdb_dataset():\n",
        "    pos_reviews = [(movie_reviews.raw(fileid), 1) for fileid in movie_reviews.fileids('pos')]\n",
        "    neg_reviews = [(movie_reviews.raw(fileid), 0) for fileid in movie_reviews.fileids('neg')]\n",
        "    dataset = pos_reviews + neg_reviews\n",
        "    np.random.shuffle(dataset)  # Shuffle dataset\n",
        "    return dataset"
      ]
    },
    {
      "cell_type": "code",
      "execution_count": null,
      "id": "a87cdaa3",
      "metadata": {
        "id": "a87cdaa3"
      },
      "outputs": [],
      "source": [
        "# Load dataset\n",
        "dataset = load_imdb_dataset()\n",
        "texts, labels = zip(*dataset)\n",
        "df = pd.DataFrame({'text': texts, 'label': labels})"
      ]
    },
    {
      "cell_type": "markdown",
      "id": "bea7c1e2",
      "metadata": {
        "id": "bea7c1e2"
      },
      "source": [
        "### Step 3: Preprocess Data.\n",
        "\n",
        "#### This includes:\n",
        "- Lowercasing\n",
        "- Remove numbers from text(Reviews)\n",
        "- Punctuation Removal\n",
        "- Lemmatization (Getting root word)\n",
        "- Stop Word Removal (Removing unnecessary words)."
      ]
    },
    {
      "cell_type": "code",
      "execution_count": null,
      "id": "f8e26884",
      "metadata": {
        "id": "f8e26884"
      },
      "outputs": [],
      "source": [
        "# Initialize preprocessing tools\n",
        "stop_words = set(stopwords.words('english'))\n",
        "lemmatizer = WordNetLemmatizer()\n"
      ]
    },
    {
      "cell_type": "code",
      "execution_count": null,
      "id": "efafc62b",
      "metadata": {
        "id": "efafc62b"
      },
      "outputs": [],
      "source": [
        "# Text preprocessing function\n",
        "def preprocess_text(text):\n",
        "    text = text.lower()  # Convert to lowercase\n",
        "    text = re.sub(r'\\d+', '', text)  # Remove numbers\n",
        "    text = text.translate(str.maketrans('', '', string.punctuation))  # Remove punctuation\n",
        "    words = text.split()\n",
        "    words = [lemmatizer.lemmatize(word) for word in words if word not in stop_words]  # Lemmatization\n",
        "    return \" \".join(words)\n"
      ]
    },
    {
      "cell_type": "code",
      "execution_count": null,
      "id": "0e4522b8",
      "metadata": {
        "id": "0e4522b8"
      },
      "outputs": [],
      "source": [
        "# Apply preprocessing\n",
        "df['clean_text'] = df['text'].apply(preprocess_text)"
      ]
    },
    {
      "cell_type": "markdown",
      "id": "061b74dd",
      "metadata": {
        "id": "061b74dd"
      },
      "source": [
        "### Step 4: Convert text data to numerical using TF-IDF (Term frequency-Inverse Document Frequency)"
      ]
    },
    {
      "cell_type": "code",
      "execution_count": null,
      "id": "ec875c86",
      "metadata": {
        "id": "ec875c86"
      },
      "outputs": [],
      "source": [
        "# Convert text to numerical representation using TF-IDF\n",
        "vectorizer = TfidfVectorizer(max_features=5000)  # Limit vocab size for efficiency\n",
        "X = vectorizer.fit_transform(df['clean_text'])"
      ]
    },
    {
      "cell_type": "markdown",
      "id": "dcda912b",
      "metadata": {
        "id": "dcda912b"
      },
      "source": [
        "### Step 5: Splitting Data and Training Naive Bayes Classifier model."
      ]
    },
    {
      "cell_type": "code",
      "execution_count": null,
      "id": "be0d142c",
      "metadata": {
        "id": "be0d142c"
      },
      "outputs": [],
      "source": [
        "# Split data into training and test sets\n",
        "X_train, X_test, y_train, y_test = train_test_split(X, df['label'], test_size=0.3, random_state=42)\n",
        "\n",
        "# Train a Naïve Bayes classifier\n",
        "classifier = MultinomialNB()\n",
        "classifier.fit(X_train, y_train)\n",
        "\n",
        "# Make predictions\n",
        "y_pred = classifier.predict(X_test)"
      ]
    },
    {
      "cell_type": "markdown",
      "id": "dd034b26",
      "metadata": {
        "id": "dd034b26"
      },
      "source": [
        "### Step 6: Evaluating Model Performance."
      ]
    },
    {
      "cell_type": "code",
      "execution_count": null,
      "id": "23dede3f",
      "metadata": {
        "id": "23dede3f",
        "outputId": "74bf9053-b118-4337-b274-de38fa9aef42"
      },
      "outputs": [
        {
          "name": "stdout",
          "output_type": "stream",
          "text": [
            "Accuracy: 0.8116666666666666\n",
            "Classification Report:\n",
            "               precision    recall  f1-score   support\n",
            "\n",
            "           0       0.78      0.86      0.82       295\n",
            "           1       0.85      0.77      0.81       305\n",
            "\n",
            "    accuracy                           0.81       600\n",
            "   macro avg       0.81      0.81      0.81       600\n",
            "weighted avg       0.81      0.81      0.81       600\n",
            "\n"
          ]
        }
      ],
      "source": [
        "# Evaluate the model\n",
        "accuracy = accuracy_score(y_test, y_pred)\n",
        "print(\"Accuracy:\", accuracy)\n",
        "print(\"Classification Report:\\n\", classification_report(y_test, y_pred))"
      ]
    }
  ],
  "metadata": {
    "colab": {
      "include_colab_link": true,
      "provenance": []
    },
    "kernelspec": {
      "display_name": "Python 3 (ipykernel)",
      "language": "python",
      "name": "python3"
    },
    "language_info": {
      "codemirror_mode": {
        "name": "ipython",
        "version": 3
      },
      "file_extension": ".py",
      "mimetype": "text/x-python",
      "name": "python",
      "nbconvert_exporter": "python",
      "pygments_lexer": "ipython3",
      "version": "3.10.9"
    }
  },
  "nbformat": 4,
  "nbformat_minor": 5
}
