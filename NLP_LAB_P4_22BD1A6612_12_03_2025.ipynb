{
  "nbformat": 4,
  "nbformat_minor": 0,
  "metadata": {
    "colab": {
      "provenance": [],
      "authorship_tag": "ABX9TyNpVMW9howhMAs2DZStns0Y",
      "include_colab_link": true
    },
    "kernelspec": {
      "name": "python3",
      "display_name": "Python 3"
    },
    "language_info": {
      "name": "python"
    }
  },
  "cells": [
    {
      "cell_type": "markdown",
      "metadata": {
        "id": "view-in-github",
        "colab_type": "text"
      },
      "source": [
        "<a href=\"https://colab.research.google.com/github/SasukeUchiha-05/NLP/blob/main/NLP_LAB_P4_22BD1A6612_12_03_2025.ipynb\" target=\"_parent\"><img src=\"https://colab.research.google.com/assets/colab-badge.svg\" alt=\"Open In Colab\"/></a>"
      ]
    },
    {
      "cell_type": "code",
      "source": [],
      "metadata": {
        "id": "82smIXDnFw7V"
      },
      "execution_count": null,
      "outputs": []
    },
    {
      "cell_type": "code",
      "execution_count": 5,
      "metadata": {
        "colab": {
          "base_uri": "https://localhost:8080/"
        },
        "id": "DxLBDaeaCnnd",
        "outputId": "d5875754-d202-4303-95ba-c55bbf57cd1a"
      },
      "outputs": [
        {
          "output_type": "stream",
          "name": "stdout",
          "text": [
            "Cosine Similarity (TF-IDF): 0.2606\n"
          ]
        }
      ],
      "source": [
        "from sklearn.feature_extraction.text import TfidfVectorizer\n",
        "from sklearn.metrics.pairwise import cosine_similarity\n",
        "\n",
        "text1= \"I love reading manga/manhwa.\"\n",
        "text2 = \"You can read manga/manhwa online.\"\n",
        "\n",
        "vectorizer = TfidfVectorizer()\n",
        "\n",
        "tfidf_matrix = vectorizer.fit_transform([text1,text2])\n",
        "\n",
        "cosine_sim = cosine_similarity(tfidf_matrix[0],tfidf_matrix[1])\n",
        "\n",
        "print(f\"Cosine Similarity (TF-IDF): {cosine_sim[0][0]:.4f}\")"
      ]
    },
    {
      "cell_type": "code",
      "source": [
        "!pip install gensim"
      ],
      "metadata": {
        "colab": {
          "base_uri": "https://localhost:8080/"
        },
        "id": "Hv1V_qWhG5K2",
        "outputId": "cbbd41c8-cdd4-4342-93d0-a2359be2da0d"
      },
      "execution_count": 9,
      "outputs": [
        {
          "output_type": "stream",
          "name": "stdout",
          "text": [
            "Collecting gensim\n",
            "  Downloading gensim-4.3.3-cp311-cp311-manylinux_2_17_x86_64.manylinux2014_x86_64.whl.metadata (8.1 kB)\n",
            "Requirement already satisfied: numpy<2.0,>=1.18.5 in /usr/local/lib/python3.11/dist-packages (from gensim) (1.26.4)\n",
            "Collecting scipy<1.14.0,>=1.7.0 (from gensim)\n",
            "  Downloading scipy-1.13.1-cp311-cp311-manylinux_2_17_x86_64.manylinux2014_x86_64.whl.metadata (60 kB)\n",
            "\u001b[2K     \u001b[90m━━━━━━━━━━━━━━━━━━━━━━━━━━━━━━━━━━━━━━━━\u001b[0m \u001b[32m60.6/60.6 kB\u001b[0m \u001b[31m2.6 MB/s\u001b[0m eta \u001b[36m0:00:00\u001b[0m\n",
            "\u001b[?25hRequirement already satisfied: smart-open>=1.8.1 in /usr/local/lib/python3.11/dist-packages (from gensim) (7.1.0)\n",
            "Requirement already satisfied: wrapt in /usr/local/lib/python3.11/dist-packages (from smart-open>=1.8.1->gensim) (1.17.2)\n",
            "Downloading gensim-4.3.3-cp311-cp311-manylinux_2_17_x86_64.manylinux2014_x86_64.whl (26.7 MB)\n",
            "\u001b[2K   \u001b[90m━━━━━━━━━━━━━━━━━━━━━━━━━━━━━━━━━━━━━━━━\u001b[0m \u001b[32m26.7/26.7 MB\u001b[0m \u001b[31m50.4 MB/s\u001b[0m eta \u001b[36m0:00:00\u001b[0m\n",
            "\u001b[?25hDownloading scipy-1.13.1-cp311-cp311-manylinux_2_17_x86_64.manylinux2014_x86_64.whl (38.6 MB)\n",
            "\u001b[2K   \u001b[90m━━━━━━━━━━━━━━━━━━━━━━━━━━━━━━━━━━━━━━━━\u001b[0m \u001b[32m38.6/38.6 MB\u001b[0m \u001b[31m17.8 MB/s\u001b[0m eta \u001b[36m0:00:00\u001b[0m\n",
            "\u001b[?25hInstalling collected packages: scipy, gensim\n",
            "  Attempting uninstall: scipy\n",
            "    Found existing installation: scipy 1.14.1\n",
            "    Uninstalling scipy-1.14.1:\n",
            "      Successfully uninstalled scipy-1.14.1\n",
            "Successfully installed gensim-4.3.3 scipy-1.13.1\n"
          ]
        }
      ]
    },
    {
      "cell_type": "code",
      "source": [
        "import numpy as np\n",
        "import gensim.downloader as api\n",
        "from sklearn.metrics.pairwise import cosine_similarity\n",
        "\n",
        "\n",
        "glove_model = api.load(\"glove-wiki-gigaword-50\")\n",
        "def get_embedding(text, model):\n",
        "  words = text.lower().split()\n",
        "  word_vectors = [model[word] for word in words if word in model]\n",
        "  if not word_vectors:\n",
        "    return np.zeros(model.vector_size)\n",
        "  return np.mean(word_vectors, axis=0)\n",
        "\n",
        "embedding1 = get_embedding(text1, glove_model)\n",
        "embedding2 = get_embedding(text2, glove_model)\n",
        "\n",
        "cosine_sim = cosine_similarity([embedding1], [embedding2])\n",
        "print(f\"Cosine Similarity (Word Embeddings - GloVe): {cosine_sim[0][0]:.4f}\")"
      ],
      "metadata": {
        "colab": {
          "base_uri": "https://localhost:8080/"
        },
        "id": "7-DA-Z5DDkEc",
        "outputId": "f2465a30-be76-4ae2-bc45-987fe53666db"
      },
      "execution_count": 10,
      "outputs": [
        {
          "output_type": "stream",
          "name": "stdout",
          "text": [
            "[==================================================] 100.0% 66.0/66.0MB downloaded\n",
            "Cosine Similarity (Word Embeddings - GloVe): 0.8957\n"
          ]
        }
      ]
    },
    {
      "cell_type": "code",
      "source": [
        "# Eucledian Distance\n",
        "from sklearn.metrics.pairwise import euclidean_distances\n",
        "\n",
        "\n",
        "# Euclidean Distance\n",
        "euclidean_dist = euclidean_distances([embedding1], [embedding2])[0][0]\n",
        "print(f\"Euclidean Distance: {euclidean_dist:.4f}\")\n",
        "\n"
      ],
      "metadata": {
        "colab": {
          "base_uri": "https://localhost:8080/"
        },
        "id": "p4npOOtUHPfP",
        "outputId": "5e1dd856-1b2f-4541-ddd3-7065b073b7fe"
      },
      "execution_count": 11,
      "outputs": [
        {
          "output_type": "stream",
          "name": "stdout",
          "text": [
            "Euclidean Distance: 2.2841\n"
          ]
        }
      ]
    },
    {
      "cell_type": "code",
      "source": [
        "# Pearson Correlation\n",
        "\n",
        "pearson_corr = np.corrcoef(embedding1,embedding2)[0,1]\n",
        "print(f\"Pearson Correlation:{pearson_corr:.4f}\")\n",
        "\n",
        "# Gives relationship btw two things. values  1 (high relation) 0(no relation) -1 (negative relation)"
      ],
      "metadata": {
        "colab": {
          "base_uri": "https://localhost:8080/"
        },
        "id": "m7jft5acI-PP",
        "outputId": "c2713350-b53e-4a49-96b4-aaf891bda1ca"
      },
      "execution_count": 12,
      "outputs": [
        {
          "output_type": "stream",
          "name": "stdout",
          "text": [
            "Pearson Correlation:0.8982\n"
          ]
        }
      ]
    },
    {
      "cell_type": "code",
      "source": [
        "# Hamming Distance\n",
        "\n",
        "from scipy.spatial.distance import hamming\n",
        "def text_to_binary(text):\n",
        "  return ''.join(format(ord(char),'08b') for char in text)\n",
        "\n",
        "binary1 = text_to_binary(text1)\n",
        "binary2 = text_to_binary(text2)\n",
        "\n",
        "max_length = max(len(binary1),len(binary2))\n",
        "\n",
        "binary1 = binary1.ljust(max_length ,'0')\n",
        "binary2 = binary2.ljust(max_length ,'0')\n",
        "\n",
        "hamming_dist = hamming(list(binary1),list(binary2))\n",
        "print(f\"hamming Distance: {hamming_dist:.4f}\")"
      ],
      "metadata": {
        "colab": {
          "base_uri": "https://localhost:8080/"
        },
        "id": "KCp8wgyOJVFV",
        "outputId": "da22fb49-db7e-4a33-b2f0-90b27c405cbf"
      },
      "execution_count": 14,
      "outputs": [
        {
          "output_type": "stream",
          "name": "stdout",
          "text": [
            "hamming Distance: 0.3712\n"
          ]
        }
      ]
    },
    {
      "cell_type": "code",
      "source": [
        "def jaccard_similarity(text1, text2):\n",
        "    set1, set2 = set(text1.lower().split()), set(text2.lower().split())\n",
        "    return len(set1 & set2) / len(set1 | set2)\n",
        "\n",
        "# Example text\n",
        "text1 = \"machine learning is amazing\"\n",
        "text2 = \"deep learning is powerful\"\n",
        "\n",
        "# Compute Jaccard Similarity\n",
        "jaccard_sim = jaccard_similarity(text1, text2)\n",
        "print(f\"Jaccard Similarity: {jaccard_sim:.4f}\")\n",
        "\n",
        "# checks the word overlap\n"
      ],
      "metadata": {
        "colab": {
          "base_uri": "https://localhost:8080/"
        },
        "id": "6uyoXKEjKe_D",
        "outputId": "73648065-152c-4598-8539-3ca5eba044c6"
      },
      "execution_count": 15,
      "outputs": [
        {
          "output_type": "stream",
          "name": "stdout",
          "text": [
            "Jaccard Similarity: 0.3333\n"
          ]
        }
      ]
    }
  ]
}