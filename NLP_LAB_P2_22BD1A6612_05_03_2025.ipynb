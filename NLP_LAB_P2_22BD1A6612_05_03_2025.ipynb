{
  "nbformat": 4,
  "nbformat_minor": 0,
  "metadata": {
    "colab": {
      "provenance": [],
      "authorship_tag": "ABX9TyPJr0fU7P+NN9tWBexpQhsj",
      "include_colab_link": true
    },
    "kernelspec": {
      "name": "python3",
      "display_name": "Python 3"
    },
    "language_info": {
      "name": "python"
    }
  },
  "cells": [
    {
      "cell_type": "markdown",
      "metadata": {
        "id": "view-in-github",
        "colab_type": "text"
      },
      "source": [
        "<a href=\"https://colab.research.google.com/github/SasukeUchiha-05/NLP/blob/main/NLP_LAB_P2_22BD1A6612_05_03_2025.ipynb\" target=\"_parent\"><img src=\"https://colab.research.google.com/assets/colab-badge.svg\" alt=\"Open In Colab\"/></a>"
      ]
    },
    {
      "cell_type": "code",
      "execution_count": 3,
      "metadata": {
        "id": "om4UrGSF7yok"
      },
      "outputs": [],
      "source": [
        "import requests\n",
        "\n",
        "# url = \"https://en.wikipedia.org/wiki/The_Fragrant_Flower_Blooms_with_Dignity\"\n",
        "url =\"https://en.wikipedia.org/api/rest_v1/page/summary/The_Fragrant_Flower_Blooms_with_Dignity\"\n",
        "response = requests.get(url)\n",
        "data = response.json()\n",
        "text = data[\"extract\"]"
      ]
    },
    {
      "cell_type": "markdown",
      "source": [],
      "metadata": {
        "id": "dKkNTWA390in"
      }
    },
    {
      "cell_type": "code",
      "source": [
        "import spacy\n",
        "nlp = spacy.load(\"en_core_web_sm\")\n",
        "doc = nlp(text)"
      ],
      "metadata": {
        "id": "ZE1cD9Cf86v4"
      },
      "execution_count": 4,
      "outputs": []
    },
    {
      "cell_type": "code",
      "source": [
        "tokens = [token.text for token in doc]\n",
        "stop_words = [token.text for token in doc if token.is_stop]"
      ],
      "metadata": {
        "id": "N8ANvD1D-Crn"
      },
      "execution_count": 5,
      "outputs": []
    },
    {
      "cell_type": "code",
      "source": [
        "total_tokens = len(tokens)\n",
        "stop_word_count = len(stop_words)\n",
        "percent_stop_words = (stop_word_count/total_tokens) * 100\n",
        "\n",
        "print(f\"Total Words:{total_tokens}\")\n",
        "print(f\"Stop Words:{stop_word_count}\")\n",
        "print(f\"Percentage of Stop Words:{percent_stop_words:.2f}%\")"
      ],
      "metadata": {
        "colab": {
          "base_uri": "https://localhost:8080/"
        },
        "id": "h95ep_gt-NMi",
        "outputId": "4b436ede-a145-4095-f4f9-d062005d1ee9"
      },
      "execution_count": 6,
      "outputs": [
        {
          "output_type": "stream",
          "name": "stdout",
          "text": [
            "Total Words:63\n",
            "Stop Words:21\n",
            "Percentage of Stop Words:33.33%\n"
          ]
        }
      ]
    },
    {
      "cell_type": "code",
      "source": [
        "doc\n"
      ],
      "metadata": {
        "colab": {
          "base_uri": "https://localhost:8080/"
        },
        "id": "qMo58TON-5JM",
        "outputId": "a5b7e5ca-62da-44e5-827e-de876f255f3d"
      },
      "execution_count": 7,
      "outputs": [
        {
          "output_type": "execute_result",
          "data": {
            "text/plain": [
              "The Fragrant Flower Blooms with Dignity  is a Japanese manga series written and illustrated by Saka Mikami. It began serialization on Kodansha's Magazine Pocket manga website and app in October 2021, with its chapters collected in 15 tankōbon volumes as of January 2025. An anime television series adaptation produced by CloverWorks is set to premiere in 2025."
            ]
          },
          "metadata": {},
          "execution_count": 7
        }
      ]
    }
  ]
}