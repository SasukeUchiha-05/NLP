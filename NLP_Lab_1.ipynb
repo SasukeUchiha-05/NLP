{
  "nbformat": 4,
  "nbformat_minor": 0,
  "metadata": {
    "colab": {
      "provenance": [],
      "authorship_tag": "ABX9TyOm6hhMhBbNNjcV5J5rV4GS",
      "include_colab_link": true
    },
    "kernelspec": {
      "name": "python3",
      "display_name": "Python 3"
    },
    "language_info": {
      "name": "python"
    }
  },
  "cells": [
    {
      "cell_type": "markdown",
      "metadata": {
        "id": "view-in-github",
        "colab_type": "text"
      },
      "source": [
        "<a href=\"https://colab.research.google.com/github/SasukeUchiha-05/NLP/blob/main/NLP_Lab_1.ipynb\" target=\"_parent\"><img src=\"https://colab.research.google.com/assets/colab-badge.svg\" alt=\"Open In Colab\"/></a>"
      ]
    },
    {
      "cell_type": "code",
      "execution_count": 2,
      "metadata": {
        "id": "MQ_b_MLF5Euf"
      },
      "outputs": [],
      "source": [
        "import spacy"
      ]
    },
    {
      "cell_type": "code",
      "source": [
        "nlp = spacy.load(\"en_core_web_sm\")"
      ],
      "metadata": {
        "id": "BlNiG1wm5VWc"
      },
      "execution_count": 4,
      "outputs": []
    },
    {
      "cell_type": "code",
      "source": [
        "import random\n",
        "text = \"Help Im randomized. \"\n",
        "subjects = [\"The cat\", \"A scientist\", \"My friend\", \"An astronaut\", \"The teacher\"]\n",
        "verbs = [\"jumps\", \"discovers\", \"eats\", \"writes\", \"analyzes\"]\n",
        "objects = [\"a book\", \"the stars\", \"a sandwich\", \"the equation\", \"a mystery\"]\n",
        "\n",
        "def generate_sentence():\n",
        "    subject = random.choice(subjects)\n",
        "    verb = random.choice(verbs)\n",
        "    obj = random.choice(objects)\n",
        "    return f\"{subject} {verb} {obj}.\"\n",
        "\n",
        "text += generate_sentence()\n",
        "\n",
        "doc = nlp(text)\n",
        "print(doc)\n"
      ],
      "metadata": {
        "colab": {
          "base_uri": "https://localhost:8080/"
        },
        "id": "KGd7mys05h6c",
        "outputId": "90a331e5-1c0f-4ae6-f08c-4d410c63c7f2"
      },
      "execution_count": 9,
      "outputs": [
        {
          "output_type": "stream",
          "name": "stdout",
          "text": [
            "Help Im randomized. My friend eats the stars.\n"
          ]
        }
      ]
    },
    {
      "cell_type": "code",
      "source": [
        "words = [token.text for token in doc]\n",
        "print(\"Words:\",words)"
      ],
      "metadata": {
        "colab": {
          "base_uri": "https://localhost:8080/"
        },
        "id": "CHZQ26u36D13",
        "outputId": "8e861188-259b-4d11-8a40-fd11673df2d0"
      },
      "execution_count": 10,
      "outputs": [
        {
          "output_type": "stream",
          "name": "stdout",
          "text": [
            "Words: ['Help', 'I', 'm', 'randomized', '.', 'My', 'friend', 'eats', 'the', 'stars', '.']\n"
          ]
        }
      ]
    },
    {
      "cell_type": "code",
      "source": [
        "phrases = [chunk.text for chunk in doc.noun_chunks]\n",
        "print(\"Phrases:\", phrases)"
      ],
      "metadata": {
        "colab": {
          "base_uri": "https://localhost:8080/"
        },
        "id": "LWSmDII06JGw",
        "outputId": "d83bae20-23f3-4fb4-9391-8905569dfb31"
      },
      "execution_count": 11,
      "outputs": [
        {
          "output_type": "stream",
          "name": "stdout",
          "text": [
            "Phrases: ['I', 'My friend', 'the stars']\n"
          ]
        }
      ]
    },
    {
      "cell_type": "code",
      "source": [
        "entities = [(ent.text, ent.label_) for ent in doc.ents]\n",
        "print(\"Named Entities:\", entities)"
      ],
      "metadata": {
        "colab": {
          "base_uri": "https://localhost:8080/"
        },
        "id": "ffl4IWMZ6LDA",
        "outputId": "b2ae8220-2326-4cf1-e178-88c48b18a2dd"
      },
      "execution_count": 12,
      "outputs": [
        {
          "output_type": "stream",
          "name": "stdout",
          "text": [
            "Named Entities: []\n"
          ]
        }
      ]
    },
    {
      "cell_type": "code",
      "source": [],
      "metadata": {
        "id": "M-Y5AbtfCuZA"
      },
      "execution_count": null,
      "outputs": []
    }
  ]
}