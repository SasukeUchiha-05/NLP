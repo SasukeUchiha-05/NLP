{
  "nbformat": 4,
  "nbformat_minor": 0,
  "metadata": {
    "colab": {
      "provenance": [],
      "authorship_tag": "ABX9TyNFdN9LPG8JLVegXGTNMGaP",
      "include_colab_link": true
    },
    "kernelspec": {
      "name": "python3",
      "display_name": "Python 3"
    },
    "language_info": {
      "name": "python"
    }
  },
  "cells": [
    {
      "cell_type": "markdown",
      "metadata": {
        "id": "view-in-github",
        "colab_type": "text"
      },
      "source": [
        "<a href=\"https://colab.research.google.com/github/SasukeUchiha-05/NLP/blob/main/NLP_Lab_1.ipynb\" target=\"_parent\"><img src=\"https://colab.research.google.com/assets/colab-badge.svg\" alt=\"Open In Colab\"/></a>"
      ]
    },
    {
      "cell_type": "code",
      "execution_count": 2,
      "metadata": {
        "id": "MQ_b_MLF5Euf"
      },
      "outputs": [],
      "source": [
        "import spacy"
      ]
    },
    {
      "cell_type": "code",
      "source": [
        "nlp = spacy.blank(\"en\")"
      ],
      "metadata": {
        "id": "BlNiG1wm5VWc"
      },
      "execution_count": 3,
      "outputs": []
    },
    {
      "cell_type": "code",
      "source": [
        "import random\n",
        "text = \"Help Im randomized. \"\n",
        "subjects = [\"The cat\", \"A scientist\", \"My friend\", \"An astronaut\", \"The teacher\"]\n",
        "verbs = [\"jumps\", \"discovers\", \"eats\", \"writes\", \"analyzes\"]\n",
        "objects = [\"a book\", \"the stars\", \"a sandwich\", \"the equation\", \"a mystery\"]\n",
        "\n",
        "def generate_sentence():\n",
        "    subject = random.choice(subjects)\n",
        "    verb = random.choice(verbs)\n",
        "    obj = random.choice(objects)\n",
        "    return f\"{subject} {verb} {obj}.\"\n",
        "\n",
        "text += generate_sentence()\n",
        "\n",
        "doc = nlp(text)\n",
        "print(doc)\n"
      ],
      "metadata": {
        "colab": {
          "base_uri": "https://localhost:8080/"
        },
        "id": "KGd7mys05h6c",
        "outputId": "aba5f946-b886-4277-c260-91ced64121b8"
      },
      "execution_count": 11,
      "outputs": [
        {
          "output_type": "stream",
          "name": "stdout",
          "text": [
            "Help Im randomized. A scientist discovers the equation.\n"
          ]
        }
      ]
    },
    {
      "cell_type": "code",
      "source": [
        "first_token = doc[0]"
      ],
      "metadata": {
        "id": "CHZQ26u36D13"
      },
      "execution_count": 6,
      "outputs": []
    },
    {
      "cell_type": "code",
      "source": [
        "print(first_token)"
      ],
      "metadata": {
        "colab": {
          "base_uri": "https://localhost:8080/"
        },
        "id": "LWSmDII06JGw",
        "outputId": "5ac314e6-8824-40ff-e3d4-71fff53136cb"
      },
      "execution_count": 7,
      "outputs": [
        {
          "output_type": "stream",
          "name": "stdout",
          "text": [
            "Help\n"
          ]
        }
      ]
    },
    {
      "cell_type": "code",
      "source": [],
      "metadata": {
        "id": "ffl4IWMZ6LDA"
      },
      "execution_count": null,
      "outputs": []
    }
  ]
}