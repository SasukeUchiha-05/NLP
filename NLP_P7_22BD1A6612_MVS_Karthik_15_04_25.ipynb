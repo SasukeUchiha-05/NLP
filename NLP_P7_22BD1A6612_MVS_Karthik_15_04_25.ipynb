{
  "cells": [
    {
      "cell_type": "markdown",
      "metadata": {
        "id": "view-in-github",
        "colab_type": "text"
      },
      "source": [
        "<a href=\"https://colab.research.google.com/github/SasukeUchiha-05/NLP/blob/main/NLP_P7_22BD1A6612_MVS_Karthik_15_04_25.ipynb\" target=\"_parent\"><img src=\"https://colab.research.google.com/assets/colab-badge.svg\" alt=\"Open In Colab\"/></a>"
      ]
    },
    {
      "cell_type": "markdown",
      "id": "7b573a71",
      "metadata": {
        "id": "7b573a71"
      },
      "source": [
        "## Problem Statement:\n",
        "### 7.\tDevelop a Named Entity Recognition system: Use a dataset with annotated entities (e.g., persons, organizations).\n",
        "- i.\tImplement an NER model.\n",
        "- ii.\tEvaluate the model's performance."
      ]
    },
    {
      "cell_type": "markdown",
      "id": "1f99a35c",
      "metadata": {
        "id": "1f99a35c"
      },
      "source": [
        "### Step 1: Import Libraries and datasets."
      ]
    },
    {
      "cell_type": "code",
      "execution_count": null,
      "id": "c0bf37b4",
      "metadata": {
        "id": "c0bf37b4"
      },
      "outputs": [],
      "source": [
        "import spacy\n",
        "import random\n",
        "from spacy.training import Example\n",
        "from datasets import load_dataset\n",
        "from sklearn.metrics import classification_report\n",
        "from spacy.tokens import DocBin\n",
        "from spacy.training.iob_utils import offsets_to_biluo_tags"
      ]
    },
    {
      "cell_type": "code",
      "execution_count": null,
      "id": "ae953271",
      "metadata": {
        "id": "ae953271",
        "outputId": "daaf38de-32fe-40f6-c9a7-9ac012731a0a"
      },
      "outputs": [
        {
          "name": "stderr",
          "output_type": "stream",
          "text": [
            "Using the latest cached version of the module from C:\\Users\\tanay\\.cache\\huggingface\\modules\\datasets_modules\\datasets\\conll2003\\9a4d16a94f8674ba3466315300359b0acd891b68b6c8743ddf60b9c702adce98 (last modified on Wed Apr  2 11:44:32 2025) since it couldn't be found locally at conll2003, or remotely on the Hugging Face Hub.\n"
          ]
        }
      ],
      "source": [
        "conll = load_dataset(\"conll2003\")\n",
        "\n",
        "ner_label_map = conll[\"train\"].features[\"ner_tags\"].feature.int2str"
      ]
    },
    {
      "cell_type": "markdown",
      "id": "4a142736",
      "metadata": {
        "id": "4a142736"
      },
      "source": [
        "### Step 2: Conll Data to SpaCy Format. Preparing Training and Testing Data.\n",
        "\n"
      ]
    },
    {
      "cell_type": "code",
      "execution_count": null,
      "id": "a8a91e98",
      "metadata": {
        "id": "a8a91e98"
      },
      "outputs": [],
      "source": [
        "def convert_conll_to_spacy(conll_dataset):\n",
        "    spacy_data = []\n",
        "\n",
        "    for entry in conll_dataset:\n",
        "        text = \" \".join(entry[\"tokens\"])\n",
        "        entities = []\n",
        "        start = 0\n",
        "\n",
        "        for token, label in zip(entry[\"tokens\"], entry[\"ner_tags\"]):\n",
        "            token_start = text.find(token, start)\n",
        "            token_end = token_start + len(token)\n",
        "\n",
        "            if label != 0:\n",
        "                entity_label = ner_label_map(label)\n",
        "                entities.append((token_start, token_end, entity_label))\n",
        "\n",
        "            start = token_end\n",
        "\n",
        "        spacy_data.append((text, {\"entities\": entities}))\n",
        "\n",
        "    return spacy_data"
      ]
    },
    {
      "cell_type": "code",
      "execution_count": null,
      "id": "4d4e5cee",
      "metadata": {
        "id": "4d4e5cee"
      },
      "outputs": [],
      "source": [
        "train_data_spacy = convert_conll_to_spacy(conll[\"train\"])\n",
        "test_data_spacy = convert_conll_to_spacy(conll[\"test\"])"
      ]
    },
    {
      "cell_type": "markdown",
      "id": "989a263e",
      "metadata": {
        "id": "989a263e"
      },
      "source": [
        "### Step 3: Using spaCy declare a pre-trained model, train it on the conll data."
      ]
    },
    {
      "cell_type": "code",
      "execution_count": null,
      "id": "b731c92a",
      "metadata": {
        "id": "b731c92a"
      },
      "outputs": [],
      "source": [
        "def train_ner(train_data, n_iter=3, model=\"en_core_web_sm\"):\n",
        "    nlp = spacy.load(model)\n",
        "    print(\"Loaded model\")\n",
        "    ner = nlp.get_pipe(\"ner\")\n",
        "\n",
        "\n",
        "    for _, annotations in train_data:\n",
        "        for ent in annotations[\"entities\"]:\n",
        "            ner.add_label(ent[2])\n",
        "\n",
        "    unaffected_pipes = [pipe for pipe in nlp.pipe_names if pipe != \"ner\"]\n",
        "\n",
        "\n",
        "    optimizer = nlp.resume_training()\n",
        "\n",
        "    with nlp.disable_pipes(*unaffected_pipes):\n",
        "        for i in range(n_iter):\n",
        "            random.shuffle(train_data)\n",
        "            losses = {}\n",
        "\n",
        "            for text, annotations in train_data:\n",
        "                doc = nlp.make_doc(text)\n",
        "                example = Example.from_dict(doc, annotations)\n",
        "\n",
        "                nlp.update([example], drop=0.3, losses=losses)\n",
        "\n",
        "            print(f\"Iteration {i+1}: Losses {losses}\")\n",
        "\n",
        "    return nlp"
      ]
    },
    {
      "cell_type": "code",
      "execution_count": null,
      "id": "618f95ac",
      "metadata": {
        "scrolled": false,
        "id": "618f95ac",
        "outputId": "b341e1d6-d1bb-493c-c849-1240c6303c60"
      },
      "outputs": [
        {
          "name": "stdout",
          "output_type": "stream",
          "text": [
            "Loaded model\n",
            "Iteration 1: Losses {'ner': 2956.4333416357535}\n",
            "Iteration 2: Losses {'ner': 1524.285870418563}\n",
            "Iteration 3: Losses {'ner': 1137.8897192841446}\n"
          ]
        }
      ],
      "source": [
        "train_data_spacy = train_data_spacy[:2000]\n",
        "nlp_custom = train_ner(train_data_spacy, n_iter=3)"
      ]
    },
    {
      "cell_type": "markdown",
      "id": "81b04851",
      "metadata": {
        "id": "81b04851"
      },
      "source": [
        "### Step 4: Model Evaluation."
      ]
    },
    {
      "cell_type": "code",
      "execution_count": null,
      "id": "c694769d",
      "metadata": {
        "id": "c694769d"
      },
      "outputs": [],
      "source": [
        "def evaluate_model(nlp, test_data):\n",
        "    y_true, y_pred = [], []\n",
        "\n",
        "    for text, annotations in test_data:\n",
        "        doc = nlp(text)\n",
        "        true_tags = offsets_to_biluo_tags(doc, annotations[\"entities\"])\n",
        "        pred_tags = [token.ent_iob_ + (\"-\" + token.ent_type_ if token.ent_type_ else \"\")\n",
        "                     for token in doc]\n",
        "        y_true.extend(true_tags)\n",
        "        y_pred.extend(pred_tags)\n",
        "\n",
        "    print(\"NER Model Evaluation Report:\")\n",
        "    print(classification_report(y_true, y_pred))"
      ]
    },
    {
      "cell_type": "code",
      "execution_count": null,
      "id": "ddeb8245",
      "metadata": {
        "id": "ddeb8245",
        "outputId": "7151df35-8cc2-4a4c-fa2b-c8bd693c9eaa"
      },
      "outputs": [
        {
          "name": "stdout",
          "output_type": "stream",
          "text": [
            "NER Model Evaluation Report:\n"
          ]
        },
        {
          "name": "stderr",
          "output_type": "stream",
          "text": [
            "C:\\AnacondaPython\\lib\\site-packages\\sklearn\\metrics\\_classification.py:1344: UndefinedMetricWarning: Precision and F-score are ill-defined and being set to 0.0 in labels with no predicted samples. Use `zero_division` parameter to control this behavior.\n",
            "  _warn_prf(average, modifier, msg_start, len(result))\n",
            "C:\\AnacondaPython\\lib\\site-packages\\sklearn\\metrics\\_classification.py:1344: UndefinedMetricWarning: Recall and F-score are ill-defined and being set to 0.0 in labels with no true samples. Use `zero_division` parameter to control this behavior.\n",
            "  _warn_prf(average, modifier, msg_start, len(result))\n",
            "C:\\AnacondaPython\\lib\\site-packages\\sklearn\\metrics\\_classification.py:1344: UndefinedMetricWarning: Precision and F-score are ill-defined and being set to 0.0 in labels with no predicted samples. Use `zero_division` parameter to control this behavior.\n",
            "  _warn_prf(average, modifier, msg_start, len(result))\n",
            "C:\\AnacondaPython\\lib\\site-packages\\sklearn\\metrics\\_classification.py:1344: UndefinedMetricWarning: Recall and F-score are ill-defined and being set to 0.0 in labels with no true samples. Use `zero_division` parameter to control this behavior.\n",
            "  _warn_prf(average, modifier, msg_start, len(result))\n"
          ]
        },
        {
          "name": "stdout",
          "output_type": "stream",
          "text": [
            "              precision    recall  f1-score   support\n",
            "\n",
            "     B-B-LOC       0.00      0.20      0.00        10\n",
            "    B-B-MISC       0.03      0.47      0.06        49\n",
            "     B-B-ORG       0.00      0.00      0.00        20\n",
            "     B-B-PER       0.00      0.12      0.00         8\n",
            "     B-I-LOC       0.00      0.00      0.00         0\n",
            "    B-I-MISC       0.00      0.33      0.01         3\n",
            "     B-I-ORG       0.00      0.00      0.00         1\n",
            "     B-I-PER       0.01      0.65      0.02        17\n",
            "     I-B-LOC       0.00      0.00      0.00         9\n",
            "    I-B-MISC       0.12      0.45      0.18        51\n",
            "     I-B-ORG       0.00      0.00      0.00        19\n",
            "     I-B-PER       0.00      0.00      0.00        10\n",
            "    I-I-MISC       0.00      0.00      0.00         3\n",
            "     I-I-ORG       0.00      0.00      0.00         1\n",
            "     I-I-PER       0.00      0.00      0.00        19\n",
            "     L-B-LOC       0.00      0.00      0.00        10\n",
            "    L-B-MISC       0.00      0.00      0.00        49\n",
            "     L-B-ORG       0.00      0.00      0.00        20\n",
            "     L-B-PER       0.00      0.00      0.00         8\n",
            "    L-I-MISC       0.00      0.00      0.00         3\n",
            "     L-I-ORG       0.00      0.00      0.00         1\n",
            "     L-I-PER       0.00      0.00      0.00        17\n",
            "           O       0.99      0.99      0.99     40913\n",
            "     U-B-LOC       0.00      0.00      0.00      1658\n",
            "    U-B-MISC       0.00      0.00      0.00       653\n",
            "     U-B-ORG       0.00      0.00      0.00      1641\n",
            "     U-B-PER       0.00      0.00      0.00      1609\n",
            "     U-I-LOC       0.00      0.00      0.00       257\n",
            "    U-I-MISC       0.00      0.00      0.00       213\n",
            "     U-I-ORG       0.00      0.00      0.00       834\n",
            "     U-I-PER       0.00      0.00      0.00      1139\n",
            "\n",
            "    accuracy                           0.82     49245\n",
            "   macro avg       0.04      0.10      0.04     49245\n",
            "weighted avg       0.82      0.82      0.82     49245\n",
            "\n"
          ]
        },
        {
          "name": "stderr",
          "output_type": "stream",
          "text": [
            "C:\\AnacondaPython\\lib\\site-packages\\sklearn\\metrics\\_classification.py:1344: UndefinedMetricWarning: Precision and F-score are ill-defined and being set to 0.0 in labels with no predicted samples. Use `zero_division` parameter to control this behavior.\n",
            "  _warn_prf(average, modifier, msg_start, len(result))\n",
            "C:\\AnacondaPython\\lib\\site-packages\\sklearn\\metrics\\_classification.py:1344: UndefinedMetricWarning: Recall and F-score are ill-defined and being set to 0.0 in labels with no true samples. Use `zero_division` parameter to control this behavior.\n",
            "  _warn_prf(average, modifier, msg_start, len(result))\n"
          ]
        }
      ],
      "source": [
        "evaluate_model(nlp_custom, test_data_spacy)"
      ]
    },
    {
      "cell_type": "markdown",
      "id": "e17513d1",
      "metadata": {
        "id": "e17513d1"
      },
      "source": [
        "## Step 5: Mapping Entity to meaningful names"
      ]
    },
    {
      "cell_type": "code",
      "execution_count": null,
      "id": "bdd2f6be",
      "metadata": {
        "id": "bdd2f6be",
        "outputId": "2b28fe7d-e245-4813-b66b-cae2decfbaf0"
      },
      "outputs": [
        {
          "name": "stdout",
          "output_type": "stream",
          "text": [
            "Entities found:\n",
            "\n",
            "Google -> B-ORG (Organization)\n",
            "Larry -> B-PER (Person)\n",
            "Page -> I-PER (Person)\n",
            "Sergey -> B-PER (Person)\n",
            "Brin -> I-PER (Person)\n",
            "Stanford -> B-ORG (Organization)\n",
            "University -> I-ORG (Organization)\n"
          ]
        }
      ],
      "source": [
        "entity_meanings = {\n",
        "    \"B-PER\": \"Person\",\n",
        "    \"I-PER\": \"Person\",\n",
        "    \"B-ORG\": \"Organization\",\n",
        "    \"I-ORG\": \"Organization\",\n",
        "    \"B-LOC\": \"Location\",\n",
        "    \"I-LOC\": \"Location\",\n",
        "    \"B-MISC\": \"Miscellaneous\",\n",
        "    \"I-MISC\": \"Miscellaneous\"\n",
        "}\n",
        "\n",
        "def test_finetuned_ner(nlp_finetuned, text):\n",
        "    \"\"\"Test the fine-tuned NER model and provide entity descriptions.\"\"\"\n",
        "    doc = nlp_finetuned(text)\n",
        "    print(\"Entities found:\\n\")\n",
        "\n",
        "    for ent in doc.ents:\n",
        "        entity_label = ent.label_\n",
        "        description = entity_meanings.get(entity_label, \"Unknown\")\n",
        "        print(f\"{ent.text} -> {entity_label} ({description})\")\n",
        "\n",
        "# Example test case\n",
        "sample_text = \"Google was founded by Larry Page and Sergey Brin in 1998 at Stanford University.\"\n",
        "test_finetuned_ner(nlp_custom, sample_text)\n"
      ]
    }
  ],
  "metadata": {
    "kernelspec": {
      "display_name": "Python 3 (ipykernel)",
      "language": "python",
      "name": "python3"
    },
    "language_info": {
      "codemirror_mode": {
        "name": "ipython",
        "version": 3
      },
      "file_extension": ".py",
      "mimetype": "text/x-python",
      "name": "python",
      "nbconvert_exporter": "python",
      "pygments_lexer": "ipython3",
      "version": "3.10.9"
    },
    "colab": {
      "provenance": [],
      "include_colab_link": true
    }
  },
  "nbformat": 4,
  "nbformat_minor": 5
}